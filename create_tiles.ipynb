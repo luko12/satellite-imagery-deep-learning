{
 "cells": [
  {
   "cell_type": "code",
   "execution_count": 1,
   "id": "5296098b",
   "metadata": {},
   "outputs": [],
   "source": [
    "import tensorflow as tf"
   ]
  },
  {
   "cell_type": "code",
   "execution_count": 1,
   "id": "44a8dbb2",
   "metadata": {},
   "outputs": [
    {
     "name": "stdout",
     "output_type": "stream",
     "text": [
      "Collecting geotile\n",
      "  Downloading geotile-0.3.1-py3-none-any.whl (8.6 kB)\n",
      "Requirement already satisfied: numpy in c:\\users\\lukas\\anaconda3\\envs\\tf\\lib\\site-packages (from geotile) (1.24.1)\n",
      "Collecting geopandas\n",
      "  Downloading geopandas-0.12.2-py3-none-any.whl (1.1 MB)\n",
      "     ---------------------------------------- 1.1/1.1 MB 5.1 MB/s eta 0:00:00\n",
      "Requirement already satisfied: gdal in c:\\users\\lukas\\anaconda3\\envs\\tf\\lib\\site-packages (from geotile) (3.6.2)\n",
      "Requirement already satisfied: rasterio in c:\\users\\lukas\\anaconda3\\envs\\tf\\lib\\site-packages (from geotile) (1.3.4)\n",
      "Collecting pyproj>=2.6.1.post1\n",
      "  Downloading pyproj-3.4.1-cp39-cp39-win_amd64.whl (4.8 MB)\n",
      "     ---------------------------------------- 4.8/4.8 MB 6.0 MB/s eta 0:00:00\n",
      "Requirement already satisfied: packaging in c:\\users\\lukas\\anaconda3\\envs\\tf\\lib\\site-packages (from geopandas->geotile) (23.0)\n",
      "Collecting shapely>=1.7\n",
      "  Downloading shapely-2.0.0-cp39-cp39-win_amd64.whl (1.4 MB)\n",
      "     ---------------------------------------- 1.4/1.4 MB 6.7 MB/s eta 0:00:00\n",
      "Collecting pandas>=1.0.0\n",
      "  Downloading pandas-1.5.3-cp39-cp39-win_amd64.whl (10.9 MB)\n",
      "     ---------------------------------------- 10.9/10.9 MB 2.0 MB/s eta 0:00:00\n",
      "Collecting fiona>=1.8\n",
      "  Downloading Fiona-1.8.22-cp39-cp39-win_amd64.whl (21.7 MB)\n",
      "     -------------------------------------- 21.7/21.7 MB 663.3 kB/s eta 0:00:00\n",
      "Requirement already satisfied: affine in c:\\users\\lukas\\anaconda3\\envs\\tf\\lib\\site-packages (from rasterio->geotile) (2.3.1)\n",
      "Requirement already satisfied: attrs in c:\\users\\lukas\\anaconda3\\envs\\tf\\lib\\site-packages (from rasterio->geotile) (22.2.0)\n",
      "Requirement already satisfied: certifi in c:\\users\\lukas\\anaconda3\\envs\\tf\\lib\\site-packages (from rasterio->geotile) (2022.12.7)\n",
      "Requirement already satisfied: click>=4.0 in c:\\users\\lukas\\anaconda3\\envs\\tf\\lib\\site-packages (from rasterio->geotile) (8.1.3)\n",
      "Requirement already satisfied: cligj>=0.5 in c:\\users\\lukas\\anaconda3\\envs\\tf\\lib\\site-packages (from rasterio->geotile) (0.7.2)\n",
      "Requirement already satisfied: snuggs>=1.4.1 in c:\\users\\lukas\\anaconda3\\envs\\tf\\lib\\site-packages (from rasterio->geotile) (1.4.7)\n",
      "Requirement already satisfied: click-plugins in c:\\users\\lukas\\anaconda3\\envs\\tf\\lib\\site-packages (from rasterio->geotile) (1.1.1)\n",
      "Requirement already satisfied: setuptools in c:\\users\\lukas\\anaconda3\\envs\\tf\\lib\\site-packages (from rasterio->geotile) (65.6.3)\n",
      "Requirement already satisfied: colorama in c:\\users\\lukas\\anaconda3\\envs\\tf\\lib\\site-packages (from click>=4.0->rasterio->geotile) (0.4.4)\n",
      "Collecting munch\n",
      "  Downloading munch-2.5.0-py2.py3-none-any.whl (10 kB)\n",
      "Requirement already satisfied: six>=1.7 in c:\\users\\lukas\\anaconda3\\envs\\tf\\lib\\site-packages (from fiona>=1.8->geopandas->geotile) (1.16.0)\n",
      "Collecting pytz>=2020.1\n",
      "  Downloading pytz-2022.7.1-py2.py3-none-any.whl (499 kB)\n",
      "     ------------------------------------ 499.4/499.4 kB 530.5 kB/s eta 0:00:00\n",
      "Requirement already satisfied: python-dateutil>=2.8.1 in c:\\users\\lukas\\anaconda3\\envs\\tf\\lib\\site-packages (from pandas>=1.0.0->geopandas->geotile) (2.8.2)\n",
      "Requirement already satisfied: pyparsing>=2.1.6 in c:\\users\\lukas\\anaconda3\\envs\\tf\\lib\\site-packages (from snuggs>=1.4.1->rasterio->geotile) (3.0.9)\n",
      "Installing collected packages: pytz, shapely, pyproj, munch, pandas, fiona, geopandas, geotile\n",
      "Successfully installed fiona-1.8.22 geopandas-0.12.2 geotile-0.3.1 munch-2.5.0 pandas-1.5.3 pyproj-3.4.1 pytz-2022.7.1 shapely-2.0.0\n"
     ]
    }
   ],
   "source": [
    "! pip install geotile"
   ]
  },
  {
   "cell_type": "code",
   "execution_count": 2,
   "id": "3474add5",
   "metadata": {},
   "outputs": [],
   "source": [
    "from geotile import GeoTile"
   ]
  },
  {
   "cell_type": "code",
   "execution_count": 13,
   "id": "f16bdf88",
   "metadata": {},
   "outputs": [],
   "source": [
    "gt = GeoTile(r\"Data\\mask.tif\")"
   ]
  },
  {
   "cell_type": "code",
   "execution_count": 4,
   "id": "e3dfda32",
   "metadata": {},
   "outputs": [
    {
     "data": {
      "text/plain": [
       "3545"
      ]
     },
     "execution_count": 4,
     "metadata": {},
     "output_type": "execute_result"
    }
   ],
   "source": [
    "gt.height"
   ]
  },
  {
   "cell_type": "code",
   "execution_count": 5,
   "id": "e9a56f2b",
   "metadata": {},
   "outputs": [
    {
     "data": {
      "text/plain": [
       "{'driver': 'GTiff',\n",
       " 'dtype': 'float32',\n",
       " 'nodata': None,\n",
       " 'width': 3544,\n",
       " 'height': 3545,\n",
       " 'count': 4,\n",
       " 'crs': CRS.from_epsg(4326),\n",
       " 'transform': Affine(8.983152841195215e-05, 0.0, 83.80176673035669,\n",
       "        0.0, -8.983152841195215e-05, 28.36295762314771)}"
      ]
     },
     "execution_count": 5,
     "metadata": {},
     "output_type": "execute_result"
    }
   ],
   "source": [
    "gt.meta"
   ]
  },
  {
   "cell_type": "code",
   "execution_count": 6,
   "id": "ffb5a6f0",
   "metadata": {},
   "outputs": [],
   "source": [
    "gt.generate_tiles(r\"./output\")"
   ]
  },
  {
   "cell_type": "code",
   "execution_count": 20,
   "id": "f72f12d8",
   "metadata": {},
   "outputs": [],
   "source": [
    "gt = GeoTile(r\"Data\\mask_final.tif\")"
   ]
  },
  {
   "cell_type": "code",
   "execution_count": 21,
   "id": "a13fd1dd",
   "metadata": {},
   "outputs": [],
   "source": [
    "gt.generate_tiles(r\"Data\\mask_final_tiles\")"
   ]
  },
  {
   "cell_type": "code",
   "execution_count": 22,
   "id": "aeead5c6",
   "metadata": {},
   "outputs": [],
   "source": [
    "gt = GeoTile(r\"Data\\mask.tif\")"
   ]
  },
  {
   "cell_type": "code",
   "execution_count": 23,
   "id": "53960e24",
   "metadata": {},
   "outputs": [],
   "source": [
    "gt.generate_tiles(r\"Data\\mask_tiles\")"
   ]
  }
 ],
 "metadata": {
  "kernelspec": {
   "display_name": "tf",
   "language": "python",
   "name": "tf"
  },
  "language_info": {
   "codemirror_mode": {
    "name": "ipython",
    "version": 3
   },
   "file_extension": ".py",
   "mimetype": "text/x-python",
   "name": "python",
   "nbconvert_exporter": "python",
   "pygments_lexer": "ipython3",
   "version": "3.9.15"
  }
 },
 "nbformat": 4,
 "nbformat_minor": 5
}
